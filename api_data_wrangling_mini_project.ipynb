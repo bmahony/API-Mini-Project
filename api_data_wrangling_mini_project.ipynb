{
 "cells": [
  {
   "cell_type": "markdown",
   "metadata": {},
   "source": [
    "This exercise will require you to pull some data from the Qunadl API. Qaundl is currently the most widely used aggregator of financial market data."
   ]
  },
  {
   "cell_type": "markdown",
   "metadata": {},
   "source": [
    "As a first step, you will need to register a free account on the http://www.quandl.com website."
   ]
  },
  {
   "cell_type": "markdown",
   "metadata": {},
   "source": [
    "After you register, you will be provided with a unique API key, that you should store:"
   ]
  },
  {
   "cell_type": "code",
   "execution_count": 1,
   "metadata": {},
   "outputs": [],
   "source": [
    "# Store the API key as a string - according to PEP8, constants are always named in all upper case\n",
    "API_KEY = 'eG1JH4fZ7vP_gq-ZD-i8'"
   ]
  },
  {
   "cell_type": "markdown",
   "metadata": {},
   "source": [
    "Qaundl has a large number of data sources, but, unfortunately, most of them require a Premium subscription. Still, there are also a good number of free datasets."
   ]
  },
  {
   "cell_type": "markdown",
   "metadata": {},
   "source": [
    "For this mini project, we will focus on equities data from the Frankfurt Stock Exhange (FSE), which is available for free. We'll try and analyze the stock prices of a company called Carl Zeiss Meditec, which manufactures tools for eye examinations, as well as medical lasers for laser eye surgery: https://www.zeiss.com/meditec/int/home.html. The company is listed under the stock ticker AFX_X."
   ]
  },
  {
   "cell_type": "markdown",
   "metadata": {},
   "source": [
    "You can find the detailed Quandl API instructions here: https://docs.quandl.com/docs/time-series"
   ]
  },
  {
   "cell_type": "markdown",
   "metadata": {},
   "source": [
    "While there is a dedicated Python package for connecting to the Quandl API, we would prefer that you use the *requests* package, which can be easily downloaded using *pip* or *conda*. You can find the documentation for the package here: http://docs.python-requests.org/en/master/ "
   ]
  },
  {
   "cell_type": "markdown",
   "metadata": {},
   "source": [
    "Finally, apart from the *requests* package, you are encouraged to not use any third party Python packages, such as *pandas*, and instead focus on what's available in the Python Standard Library (the *collections* module might come in handy: https://pymotw.com/3/collections/ ).\n",
    "Also, since you won't have access to DataFrames, you are encouraged to us Python's native data structures - preferably dictionaries, though some questions can also be answered using lists.\n",
    "You can read more on these data structures here: https://docs.python.org/3/tutorial/datastructures.html"
   ]
  },
  {
   "cell_type": "markdown",
   "metadata": {},
   "source": [
    "Keep in mind that the JSON responses you will be getting from the API map almost one-to-one to Python's dictionaries. Unfortunately, they can be very nested, so make sure you read up on indexing dictionaries in the documentation provided above."
   ]
  },
  {
   "cell_type": "code",
   "execution_count": 13,
   "metadata": {},
   "outputs": [],
   "source": [
    "# First, import the relevant modules\n",
    "import requests\n",
    "import collections\n",
    "import json\n",
    "from datetime import datetime"
   ]
  },
  {
   "cell_type": "code",
   "execution_count": 50,
   "metadata": {
    "collapsed": true,
    "jupyter": {
     "outputs_hidden": true
    }
   },
   "outputs": [
    {
     "name": "stdout",
     "output_type": "stream",
     "text": [
      "<class 'dict'>\n",
      "['2020-06-26', 88.2, 89.4, 86.65, 88.05, None, 123809.0, 10922723.5, None, None, None]\n",
      "2020-06-26\n",
      "<class 'str'>\n",
      "['2020-06-26', 88.2, 89.4, 86.65, 88.05, None, 123809.0, 10922723.5, None, None, None]\n",
      "2020-06-26\n",
      "[45.01, 45.06, 44.7, 45.0, None, 47730.0, 2145697.0, None, None, None]\n",
      "['Date', 'Open', 'High', 'Low', 'Close', 'Change', 'Traded Volume', 'Turnover', 'Last Price of the Day', 'Daily Traded Units', 'Daily Turnover']\n"
     ]
    }
   ],
   "source": [
    "# Now, call the Quandl API and pull out a small sample of the data (only one day) to get a glimpse\n",
    "# into the JSON structure that will be returned\n",
    "\n",
    "url = 'https://www.quandl.com/api/v3/datasets/FSE/AFX_X/data.json?' # Removed my API key to submit\n",
    "\n",
    "r = requests.get(url)\n",
    "\n",
    "jsonData = r.json()\n",
    "\n",
    "print(type(jsonData))\n",
    "print(jsonData['dataset_data']['data'][0])\n",
    "print(jsonData['dataset_data']['data'][0][0])\n",
    "print(type(jsonData['dataset_data']['data'][0][0]))\n",
    "\n",
    "dataset = jsonData['dataset_data']['data']\n",
    "\n",
    "working = {}\n",
    "\n",
    "print(dataset[0])\n",
    "print(dataset[0][0])\n",
    "\n",
    "for obj in dataset:\n",
    "    working[obj[0]] = obj[1:]\n",
    "\n",
    "data2017 = {}    \n",
    "\n",
    "for key in working.keys():\n",
    "    if datetime.strptime(key,'%Y-%m-%d').year == 2017:\n",
    "        data2017[key] = working[key]\n",
    "        \n",
    "print(data2017['2017-10-25'])"
   ]
  },
  {
   "cell_type": "code",
   "execution_count": 37,
   "metadata": {},
   "outputs": [],
   "source": [
    "# Inspect the JSON structure of the object you created, and take note of how nested it is,\n",
    "# as well as the overall structure\n"
   ]
  },
  {
   "cell_type": "markdown",
   "metadata": {},
   "source": [
    "These are your tasks for this mini project:\n",
    "\n",
    "1. Collect data from the Franfurt Stock Exchange, for the ticker AFX_X, for the whole year 2017 (keep in mind that the date format is YYYY-MM-DD).\n",
    "2. Convert the returned JSON object into a Python dictionary.\n",
    "3. Calculate what the highest and lowest opening prices were for the stock in this period.\n",
    "4. What was the largest change in any one day (based on High and Low price)?\n",
    "5. What was the largest change between any two days (based on Closing Price)?\n",
    "6. What was the average daily trading volume during this year?\n",
    "7. (Optional) What was the median trading volume during this year. (Note: you may need to implement your own function for calculating the median.)"
   ]
  },
  {
   "cell_type": "code",
   "execution_count": 66,
   "metadata": {},
   "outputs": [
    {
     "name": "stdout",
     "output_type": "stream",
     "text": [
      "34.0\n",
      "53.11\n"
     ]
    }
   ],
   "source": [
    "# Calculating the highest and lowest opening prices for the stock in this period\n",
    "\n",
    "highs = []\n",
    "for key in data2017.keys():\n",
    "    if data2017[key][0] != None:\n",
    "        highs.append(data2017[key][0]) # Values in data2017 are [Open, High, Low, Close, Change, Traded Volume, Turnover, Last Price of the Day, Daily Traded Units, Daily Turnover]\n",
    "\n",
    "highs.sort()\n",
    "\n",
    "print(highs[0]) # Lowest opening price = 34.0\n",
    "print(highs[-1]) # Highest opening price = 53.11"
   ]
  },
  {
   "cell_type": "code",
   "execution_count": 69,
   "metadata": {},
   "outputs": [
    {
     "name": "stdout",
     "output_type": "stream",
     "text": [
      "2017-05-11\n"
     ]
    }
   ],
   "source": [
    "# Calculating the largest change in any one day\n",
    "\n",
    "diff = []\n",
    "for key in data2017.keys():\n",
    "    diff.append((key, data2017[key][1] - data2017[key][2])) # Appending difference between daily High and Low, saving as a tuple\n",
    "    \n",
    "diff.sort(key=lambda x: x[1]) # Sorting the differential list by the second item in the tuple\n",
    "print(diff[-1][0]) # Returning the date of the last item in the sorted list of tuples\n",
    "# Date of largest change = May 11 2017 / 2017-05-11\n",
    "    "
   ]
  },
  {
   "cell_type": "code",
   "execution_count": 79,
   "metadata": {},
   "outputs": [
    {
     "name": "stdout",
     "output_type": "stream",
     "text": [
      "('2017-08-09 - 2017-08-08', 2.559999999999995)\n"
     ]
    }
   ],
   "source": [
    "# Calculating largest change in any two days\n",
    "\n",
    "diff2 = []\n",
    "\n",
    "for key in data2017.keys(): # Create a new list of tuples of date / closing price\n",
    "    diff2.append((key,data2017[key][3]))\n",
    "    \n",
    "deltas = []\n",
    "    \n",
    "for num in range(1, len(diff2)-1):\n",
    "    deltas.append((diff2[num-1][0] + ' - ' + diff2[num][0], abs(diff2[num][1] - diff2[num-1][1]))) # Creating tuples of the date range (i.e. between two dates) and the differential of the closing price between them\n",
    "    \n",
    "deltas.sort(key = lambda x: x[1]) # Sorting by differential in the tuple\n",
    "\n",
    "print(deltas[-1]) # Largest change happened between 2017-08-08 - 2017-08-09, 2.559..."
   ]
  },
  {
   "cell_type": "code",
   "execution_count": 84,
   "metadata": {},
   "outputs": [
    {
     "name": "stdout",
     "output_type": "stream",
     "text": [
      "89124.33725490196\n"
     ]
    }
   ],
   "source": [
    "# Calculating average daily trading volume\n",
    "\n",
    "dtv = []\n",
    "\n",
    "for key in data2017.keys():\n",
    "    dtv.append(data2017[key][5])\n",
    "    \n",
    "print(sum(dtv) / len(dtv)) # Average DTV = 89124.337...\n"
   ]
  },
  {
   "cell_type": "code",
   "execution_count": 88,
   "metadata": {},
   "outputs": [
    {
     "name": "stdout",
     "output_type": "stream",
     "text": [
      "76286.0\n"
     ]
    }
   ],
   "source": [
    "# Calculating median trading volume\n",
    "\n",
    "dtv.sort()\n",
    "print(dtv[int(len(dtv) / 2)]) # Median trading volume = 76286.0"
   ]
  },
  {
   "cell_type": "code",
   "execution_count": null,
   "metadata": {},
   "outputs": [],
   "source": []
  }
 ],
 "metadata": {
  "kernelspec": {
   "display_name": "Python 3",
   "language": "python",
   "name": "python3"
  },
  "language_info": {
   "codemirror_mode": {
    "name": "ipython",
    "version": 3
   },
   "file_extension": ".py",
   "mimetype": "text/x-python",
   "name": "python",
   "nbconvert_exporter": "python",
   "pygments_lexer": "ipython3",
   "version": "3.7.6"
  }
 },
 "nbformat": 4,
 "nbformat_minor": 4
}
